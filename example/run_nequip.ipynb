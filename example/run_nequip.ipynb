{
 "cells": [
  {
   "attachments": {},
   "cell_type": "markdown",
   "metadata": {},
   "source": [
    "# Example: using OpenMM to run a simulation with a NequIP ML potential\n",
    "\n",
    "You can run this tutorial directly in your browser: [![Open On Colab](https://colab.research.google.com/assets/colab-badge.svg)](https://colab.research.google.com/github/sef43/openmm-ml/blob/nequip/example/run_nequip.ipynb)"
   ]
  },
  {
   "cell_type": "markdown",
   "metadata": {},
   "source": [
    "## Install Conda\n",
    "\n",
    "[Conda](https://docs.conda.io/) is a package and environment manager. On Google Colab, Conda is installed with [conda-colab](https://github.com/jaimergp/condacolab). On your computer, you should follow these [installation instructions](https://docs.conda.io/projects/conda/en/latest/user-guide/install/index.html).\n",
    "\n",
    "⚠️ Do not use conda-colab on your computer!"
   ]
  },
  {
   "cell_type": "code",
   "execution_count": null,
   "metadata": {},
   "outputs": [],
   "source": [
    "!pip install -q condacolab\n",
    "import condacolab\n",
    "condacolab.install_mambaforge() # use mamba on colab because it is faster than conda"
   ]
  },
  {
   "attachments": {},
   "cell_type": "markdown",
   "metadata": {},
   "source": [
    "## Install software\n",
    "\n",
    "First install everything we can from [conda-forge](https://conda-forge.org/).\n",
    "Then use pip.\n",
    "\n",
    "⚠️ The installation might take up to 10 min!"
   ]
  },
  {
   "cell_type": "code",
   "execution_count": null,
   "metadata": {},
   "outputs": [],
   "source": [
    "#https://github.com/openmm/openmm-torch/issues/88\n",
    "%env CONDA_OVERRIDE_CUDA=11.2 \n",
    "!mamba install -c conda-forge openmm-torch pytorch=1.12\n",
    "\n",
    "!pip install torch-nl\n",
    "\n",
    "!pip install git+https://github.com/sef43/openmm-ml@nequip"
   ]
  },
  {
   "attachments": {},
   "cell_type": "markdown",
   "metadata": {},
   "source": [
    "## Get the files we need to run the example"
   ]
  },
  {
   "cell_type": "code",
   "execution_count": null,
   "metadata": {},
   "outputs": [],
   "source": [
    "!wget https://raw.githubusercontent.com/sef43/openmm-ml/nequip/example/toluene.pdb\n",
    "!wget https://raw.githubusercontent.com/sef43/openmm-ml/nequip/example/deployed_model.pth"
   ]
  },
  {
   "attachments": {},
   "cell_type": "markdown",
   "metadata": {},
   "source": [
    "## Run simulation"
   ]
  },
  {
   "cell_type": "code",
   "execution_count": null,
   "metadata": {},
   "outputs": [],
   "source": [
    "import openmm\n",
    "import openmm.app as app\n",
    "import openmm.unit as unit\n",
    "from openmmml import MLPotential\n",
    "from sys import stdout\n",
    "\n",
    "\"\"\"\n",
    "Uses a deployed trained NequiP model, toluene example:\n",
    "nequip-train configs/example.yaml\n",
    "nequip-deploy build --train-dir path/to/training/session/ deployed_model.pth\n",
    "\"\"\"\n",
    "\n",
    "# load toluene structure\n",
    "pdb = app.PDBFile(\"toluene.pdb\")\n",
    "\n",
    "\n",
    "# create a System with NequIP MLP\n",
    "potential = MLPotential('nequip', model_path=\"deployed_model.pth\", atom_type_to_atomic_number={\"H\":1, \"C\":6})\n",
    "system = potential.createSystem(pdb.topology)\n",
    "\n",
    "\n",
    "# run langevin dynamics at 300K for 200 steps\n",
    "integrator = openmm.LangevinIntegrator(300*unit.kelvin, 10.0/unit.picoseconds, 1.0*unit.femtosecond)\n",
    "simulation=app.Simulation(pdb.topology, system, integrator, platform=openmm.Platform.getPlatformByName(\"CPU\"))\n",
    "simulation.context.setPositions(pdb.positions)\n",
    "simulation.reporters.append(app.PDBReporter('output.pdb', 10))\n",
    "simulation.reporters.append(app.StateDataReporter(stdout, 10, step=True,\n",
    "        potentialEnergy=True, temperature=True))\n",
    "\n",
    "simulation.step(200)\n",
    "\n",
    "# Minimize the energy\n",
    "simulation.minimizeEnergy()\n",
    "energy=simulation.context.getState(getEnergy=True).getPotentialEnergy()\n",
    "print(energy, energy.in_units_of(unit.kilocalorie_per_mole))"
   ]
  }
 ],
 "metadata": {
  "kernelspec": {
   "display_name": "mace_openmm_dev",
   "language": "python",
   "name": "python3"
  },
  "language_info": {
   "name": "python",
   "version": "3.10.8 | packaged by conda-forge | (main, Nov 22 2022, 08:25:29) [Clang 14.0.6 ]"
  },
  "orig_nbformat": 4,
  "vscode": {
   "interpreter": {
    "hash": "2b1e1932d7e83ff0684e41d3e9917227391fa6242aac66de719b04e935e6e9a3"
   }
  }
 },
 "nbformat": 4,
 "nbformat_minor": 2
}
