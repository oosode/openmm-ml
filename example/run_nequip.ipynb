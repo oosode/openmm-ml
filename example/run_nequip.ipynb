{
  "cells": [
    {
      "attachments": {},
      "cell_type": "markdown",
      "metadata": {
        "id": "oRr7FSA13_Wv"
      },
      "source": [
        "# Example: using OpenMM to run a simulation with NequIP ML Potential\n",
        "\n",
        "You can run this tutorial directly in your browser: [![Open On Colab](https://colab.research.google.com/assets/colab-badge.svg)](https://colab.research.google.com/github/openmm/openmm-torch/blob/master/tutorials/openmm-torch-nnpops.ipynb)\n"
      ]
    },
    {
      "cell_type": "markdown",
      "metadata": {
        "id": "BKG1ZNq94f-Z"
      },
      "source": [
        "## Install Conda\n",
        "\n",
        "[Conda](https://docs.conda.io/) is a package and environment manager. On Google Colab, Conda is installed with [conda-colab](https://github.com/jaimergp/condacolab). On your computer, you should follow these [installation instructions](https://docs.conda.io/projects/conda/en/latest/user-guide/install/index.html).\n",
        "\n",
        "⚠️ Do not use conda-colab on your computer!"
      ]
    },
    {
      "cell_type": "code",
      "execution_count": null,
      "metadata": {
        "colab": {
          "base_uri": "https://localhost:8080/"
        },
        "id": "EcB2lc1s3ZXG",
        "outputId": "1ce0bad8-a050-48d5-c18a-9e49fbeb11c2"
      },
      "outputs": [],
      "source": [
        "!pip install -q condacolab\n",
        "import condacolab\n",
        "condacolab.install_miniconda()"
      ]
    },
    {
      "cell_type": "markdown",
      "metadata": {
        "id": "tWlPu4KF5DFZ"
      },
      "source": [
        "## Install software\n",
        "\n",
        "The [conda-forge](https://conda-forge.org/) channel is used for software.\n",
        "\n",
        "⚠️ The installation might take up to 10 min!"
      ]
    },
    {
      "cell_type": "code",
      "execution_count": null,
      "metadata": {
        "id": "-qFE_cKF5958"
      },
      "outputs": [],
      "source": [
        "#https://github.com/openmm/openmm-torch/issues/88\n",
        "%env CONDA_OVERRIDE_CUDA=11.2 \n",
        "!mamba install -c conda-forge openmm-torch pytorch=1.12\n",
        "\n",
        "!pip install -q torch-nl\n",
        "\n",
        "!pip install -q git+https://github.com/sef43/openmm-ml@nequip"
      ]
    },
    {
      "attachments": {},
      "cell_type": "markdown",
      "metadata": {},
      "source": [
        "## Run simulation"
      ]
    },
    {
      "cell_type": "code",
      "execution_count": null,
      "metadata": {},
      "outputs": [],
      "source": [
        "import openmm\n",
        "import openmm.app as app\n",
        "import openmm.unit as unit\n",
        "from openmmml import MLPotential\n",
        "from sys import stdout\n",
        "\n",
        "\"\"\"\n",
        "Uses a deployed trained NequiP model, toluene example:\n",
        "nequip-train configs/example.yaml\n",
        "nequip-deploy build --train-dir path/to/training/session/ deployed_model.pth\n",
        "\"\"\"\n",
        "\n",
        "# load toluene structure\n",
        "pdb = app.PDBFile(\"toluene.pdb\")\n",
        "\n",
        "\n",
        "# create a System with NequIP MLP\n",
        "potential = MLPotential('nequip', model_path=\"deployed_model.pth\", atom_type_to_atomic_number={\"H\":1, \"C\":6})\n",
        "system = potential.createSystem(pdb.topology)\n",
        "\n",
        "\n",
        "# run langevin dynamics at 300K for 200 steps\n",
        "integrator = openmm.LangevinIntegrator(300*unit.kelvin, 10.0/unit.picoseconds, 1.0*unit.femtosecond)\n",
        "simulation=app.Simulation(pdb.topology, system, integrator, platform=openmm.Platform.getPlatformByName(\"CPU\"))\n",
        "simulation.context.setPositions(pdb.positions)\n",
        "simulation.reporters.append(app.PDBReporter('output.pdb', 10))\n",
        "simulation.reporters.append(app.StateDataReporter(stdout, 10, step=True,\n",
        "        potentialEnergy=True, temperature=True))\n",
        "\n",
        "simulation.step(200)\n",
        "\n",
        "# Minimize the energy\n",
        "simulation.minimizeEnergy()\n",
        "energy=simulation.context.getState(getEnergy=True).getPotentialEnergy()\n",
        "print(energy, energy.in_units_of(unit.kilocalorie_per_mole))"
      ]
    }
  ],
  "metadata": {
    "colab": {
      "collapsed_sections": [
        "BKG1ZNq94f-Z"
      ],
      "name": "openmm-torch-nnpops.ipynb",
      "provenance": []
    },
    "kernelspec": {
      "display_name": "neqmm",
      "language": "python",
      "name": "python3"
    },
    "language_info": {
      "codemirror_mode": {
        "name": "ipython",
        "version": 3
      },
      "file_extension": ".py",
      "mimetype": "text/x-python",
      "name": "python",
      "nbconvert_exporter": "python",
      "pygments_lexer": "ipython3",
      "version": "3.10.9"
    },
    "vscode": {
      "interpreter": {
        "hash": "413bac2e6b7bbc56e28392734551129ace8c921fbbb9e9273c3258497d1da304"
      }
    }
  },
  "nbformat": 4,
  "nbformat_minor": 0
}
