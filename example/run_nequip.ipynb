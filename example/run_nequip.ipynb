{
 "cells": [
  {
   "attachments": {},
   "cell_type": "markdown",
   "metadata": {},
   "source": [
    "# Example: using OpenMM to run a simulation with a NequIP ML potential\n",
    "\n",
    "You can run this tutorial directly in your browser: [![Open On Colab](https://colab.research.google.com/assets/colab-badge.svg)](https://colab.research.google.com/github/sef43/openmm-ml/blob/nequip/example/run_nequip.ipynb)"
   ]
  },
  {
   "cell_type": "markdown",
   "metadata": {},
   "source": [
    "## Install Conda\n",
    "\n",
    "[Conda](https://docs.conda.io/) is a package and environment manager. On Google Colab, Conda is installed with [conda-colab](https://github.com/jaimergp/condacolab). On your computer, you should follow these [installation instructions](https://docs.conda.io/projects/conda/en/latest/user-guide/install/index.html).\n",
    "\n",
    "⚠️ Do not use conda-colab on your computer!"
   ]
  },
  {
   "cell_type": "code",
   "execution_count": null,
   "metadata": {},
   "outputs": [],
   "source": [
    "!pip install -q condacolab\n",
    "import condacolab\n",
    "condacolab.install_mambaforge() # use mamba on colab because it is faster than conda"
   ]
  },
  {
   "attachments": {},
   "cell_type": "markdown",
   "metadata": {},
   "source": [
    "## Install software\n",
    "\n",
    "First install everything we can from [conda-forge](https://conda-forge.org/).\n",
    "Then use pip.\n",
    "\n",
    "⚠️ The installation might take up to 10 min!"
   ]
  },
  {
   "cell_type": "code",
   "execution_count": null,
   "metadata": {},
   "outputs": [],
   "source": [
    "#https://github.com/openmm/openmm-torch/issues/88\n",
    "%env CONDA_OVERRIDE_CUDA=11.2 \n",
    "!mamba install -c conda-forge openmm-torch pytorch=1.12\n",
    "\n",
    "!pip install torch-nl\n",
    "\n",
    "!pip install git+https://github.com/sef43/openmm-ml@nequip"
   ]
  },
  {
   "attachments": {},
   "cell_type": "markdown",
   "metadata": {},
   "source": [
    "## Get the files we need to run the example"
   ]
  },
  {
   "cell_type": "code",
   "execution_count": null,
   "metadata": {},
   "outputs": [],
   "source": [
    "!wget https://raw.githubusercontent.com/sef43/openmm-ml/nequip/example/toluene.pdb\n",
    "!wget https://raw.githubusercontent.com/sef43/openmm-ml/nequip/example/deployed_model.pth"
   ]
  },
  {
   "attachments": {},
   "cell_type": "markdown",
   "metadata": {},
   "source": [
    "## Run simulation"
   ]
  },
  {
   "cell_type": "code",
   "execution_count": 1,
   "metadata": {},
   "outputs": [
    {
     "name": "stderr",
     "output_type": "stream",
     "text": [
      "Warning: importing 'simtk.openmm' is deprecated.  Import 'openmm' instead.\n"
     ]
    },
    {
     "name": "stdout",
     "output_type": "stream",
     "text": [
      "#\"Step\",\"Potential Energy (kJ/mole)\",\"Temperature (K)\"\n",
      "10,-710506.25,106.64568161721604\n",
      "20,-710493.6875,58.870115807642726\n",
      "30,-710494.9375,137.33678082770086\n",
      "40,-710495.25,144.22185171063842\n",
      "50,-710491.4375,125.05684817865112\n",
      "60,-710485.0625,186.79285459308133\n",
      "70,-710480.4375,211.6107253881817\n",
      "80,-710482.9375,172.65103153548674\n",
      "90,-710477.0625,219.0240585575004\n",
      "100,-710465.875,242.2009156224686\n",
      "110,-710477.875,298.81249976512817\n",
      "120,-710469.3125,342.169624348726\n",
      "130,-710460.9375,259.22585562514826\n",
      "140,-710479.3125,311.33417008006785\n",
      "150,-710479.5625,308.5538186013012\n",
      "160,-710476.125,300.9547686291246\n",
      "170,-710466.375,332.5745899693996\n",
      "180,-710457.5625,260.5653732368231\n",
      "190,-710457.3125,261.88213408675415\n",
      "200,-710469.1875,296.53803586501596\n",
      "-710513.5 kJ/mol -169816.80210325046 kcal/mol\n"
     ]
    }
   ],
   "source": [
    "import openmm\n",
    "import openmm.app as app\n",
    "import openmm.unit as unit\n",
    "from openmmml import MLPotential\n",
    "from sys import stdout\n",
    "\n",
    "\"\"\"\n",
    "Uses a deployed trained NequiP model, toluene example:\n",
    "nequip-train configs/example.yaml\n",
    "nequip-deploy build --train-dir path/to/training/session/ deployed_model.pth\n",
    "\"\"\"\n",
    "\n",
    "# load toluene structure\n",
    "pdb = app.PDBFile(\"toluene.pdb\")\n",
    "\n",
    "\n",
    "# create a System with NequIP MLP\n",
    "potential = MLPotential('nequip', model_path=\"deployed_model.pth\", atom_type_to_atomic_number={\"H\":1, \"C\":6})\n",
    "system = potential.createSystem(pdb.topology)\n",
    "\n",
    "\n",
    "# run langevin dynamics at 300K for 200 steps\n",
    "integrator = openmm.LangevinIntegrator(300*unit.kelvin, 10.0/unit.picoseconds, 1.0*unit.femtosecond)\n",
    "simulation=app.Simulation(pdb.topology, system, integrator, platform=openmm.Platform.getPlatformByName(\"CPU\"))\n",
    "simulation.context.setPositions(pdb.positions)\n",
    "simulation.reporters.append(app.PDBReporter('output.pdb', 10))\n",
    "simulation.reporters.append(app.StateDataReporter(stdout, 10, step=True,\n",
    "        potentialEnergy=True, temperature=True))\n",
    "\n",
    "simulation.step(200)\n",
    "\n",
    "# Minimize the energy\n",
    "simulation.minimizeEnergy()\n",
    "energy=simulation.context.getState(getEnergy=True).getPotentialEnergy()\n",
    "print(energy, energy.in_units_of(unit.kilocalorie_per_mole))"
   ]
  }
 ],
 "metadata": {
  "kernelspec": {
   "display_name": "neqmm",
   "language": "python",
   "name": "python3"
  },
  "language_info": {
   "codemirror_mode": {
    "name": "ipython",
    "version": 3
   },
   "file_extension": ".py",
   "mimetype": "text/x-python",
   "name": "python",
   "nbconvert_exporter": "python",
   "pygments_lexer": "ipython3",
   "version": "3.10.9"
  },
  "orig_nbformat": 4,
  "vscode": {
   "interpreter": {
    "hash": "413bac2e6b7bbc56e28392734551129ace8c921fbbb9e9273c3258497d1da304"
   }
  }
 },
 "nbformat": 4,
 "nbformat_minor": 2
}
