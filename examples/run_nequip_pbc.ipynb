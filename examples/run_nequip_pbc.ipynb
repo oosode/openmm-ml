{
 "cells": [
  {
   "attachments": {},
   "cell_type": "markdown",
   "metadata": {},
   "source": [
    "# Example: using OpenMM to run a simulation with a NequIP ML potential\n",
    "\n",
    "You can run this example directly in your browser: [![Open On Colab](https://colab.research.google.com/assets/colab-badge.svg)](https://colab.research.google.com/github/sef43/openmm-ml/blob/nequip/examples/run_nequip_pbc.ipynb)"
   ]
  },
  {
   "cell_type": "markdown",
   "metadata": {},
   "source": [
    "## Install Conda\n",
    "\n",
    "[Conda](https://docs.conda.io/) is a package and environment manager. On Google Colab, Conda is installed with [conda-colab](https://github.com/jaimergp/condacolab). On your computer, you should follow these [installation instructions](https://docs.conda.io/projects/conda/en/latest/user-guide/install/index.html).\n",
    "\n",
    "⚠️ Do not use conda-colab on your computer!"
   ]
  },
  {
   "cell_type": "code",
   "execution_count": null,
   "metadata": {},
   "outputs": [],
   "source": [
    "!pip install -q condacolab\n",
    "import condacolab\n",
    "condacolab.install_mambaforge() # use mamba on colab because it is faster than conda"
   ]
  },
  {
   "attachments": {},
   "cell_type": "markdown",
   "metadata": {},
   "source": [
    "## Install software\n",
    "\n",
    "First install everything we can from [conda-forge](https://conda-forge.org/).\n",
    "Then use pip.\n",
    "\n",
    "⚠️ The installation might take up to 10 min!"
   ]
  },
  {
   "cell_type": "code",
   "execution_count": null,
   "metadata": {},
   "outputs": [],
   "source": [
    "#https://github.com/openmm/openmm-torch/issues/88\n",
    "%env CONDA_OVERRIDE_CUDA=11.2 \n",
    "!mamba install -c conda-forge openmm-torch pytorch=1.12\n",
    "\n",
    "!pip install torch-nl\n",
    "!pip install nequip\n",
    "!pip install git+https://github.com/sef43/openmm-ml@nequip"
   ]
  },
  {
   "attachments": {},
   "cell_type": "markdown",
   "metadata": {},
   "source": [
    "## Get the files we need to run the example"
   ]
  },
  {
   "cell_type": "code",
   "execution_count": null,
   "metadata": {},
   "outputs": [],
   "source": [
    "!wget https://raw.githubusercontent.com/sef43/openmm-ml/nequip/example/minimal_toy_emt_model_deployed.pth"
   ]
  },
  {
   "attachments": {},
   "cell_type": "markdown",
   "metadata": {},
   "source": [
    "## Run simulation"
   ]
  },
  {
   "cell_type": "code",
   "execution_count": 2,
   "metadata": {},
   "outputs": [
    {
     "name": "stdout",
     "output_type": "stream",
     "text": [
      "Atoms(symbols='Cu256', pbc=True, cell=[14.44, 14.44, 14.44])\n",
      "#\"Step\",\"Potential Energy (kJ/mole)\",\"Temperature (K)\",\"Box Volume (nm^3)\"\n",
      "100,-21447.6484375,342.13267980003405,3.012526006963853\n",
      "200,-20752.3671875,491.1717814318535,3.012526006963853\n",
      "300,-20442.591796875,620.3283807295974,3.0458274820734754\n",
      "400,-20149.01171875,687.1150620095186,3.0939494791179367\n",
      "500,-19926.572265625,742.1562597959239,3.0866775568197635\n",
      "600,-19835.318359375,776.6294464035517,3.0913854556149896\n",
      "700,-19711.41015625,770.2821841447494,3.1194645444818\n",
      "800,-19555.7109375,775.7763669791223,3.140311457283665\n",
      "900,-19544.390625,772.8282296350236,3.1010864402229994\n",
      "1000,-19669.275390625,827.9967665462585,3.0992291634887996\n",
      "-22125.158203125 kJ/mol\n"
     ]
    }
   ],
   "source": [
    "import openmm\n",
    "import openmm.app as app\n",
    "import openmm.unit as unit\n",
    "from openmmml import MLPotential\n",
    "from sys import stdout\n",
    "\n",
    "\n",
    "\n",
    "\"\"\"\n",
    "Uses a deployed trained NequiP model, toy model with PBC:\n",
    "nequip-train configs/minimal_toy_emt.yaml\n",
    "nequip-deploy build --train-dir path/to/training/session/ deployed_model.pth\n",
    "\"\"\"\n",
    "\n",
    "### build the inital structure for the toy model\n",
    "import ase.build\n",
    "import ase.io\n",
    "import numpy as np\n",
    "\n",
    "rng = np.random.default_rng(123)\n",
    "supercell = (4, 4, 4)\n",
    "sigma = 0.1\n",
    "base_atoms = ase.build.bulk('Cu', 'fcc', cubic=True).repeat(supercell)\n",
    "print(base_atoms)\n",
    "topology=openmm.app.Topology()\n",
    "element = app.Element.getBySymbol('Cu')\n",
    "chain = topology.addChain()\n",
    "for particle in range(len(base_atoms)):\n",
    "        residue = topology.addResidue('Cu', chain)\n",
    "        topology.addAtom('Cu', element, residue)\n",
    "cell=np.array(base_atoms.cell[:])*0.1 # A -> nm\n",
    "topology.setPeriodicBoxVectors(cell)\n",
    "positions=base_atoms.positions*0.1 # A->nm\n",
    "\n",
    "\n",
    "# create a System with NequIP MLP\n",
    "\n",
    "# need to specify the unit conversion factors from the NequIP model units to OpenMM units.\n",
    "# distance: model is in Angstrom, OpenMM is in nanometers\n",
    "A_to_nm = 0.1\n",
    "# energy: model is in eV, OpenMM is in kJ/mol\n",
    "eV_to_kJ_per_mol = 96.49\n",
    "\n",
    "potential = MLPotential('nequip', model_path='minimal_toy_emt_model_deployed.pth', \n",
    "                        distance_to_nm=A_to_nm, \n",
    "                        energy_to_kJ_per_mol=eV_to_kJ_per_mol)\n",
    "\n",
    "system = potential.createSystem(topology)\n",
    "\n",
    "\n",
    "# run NPT\n",
    "temperature=800.0*unit.kelvin\n",
    "pressure=1.0*unit.bar\n",
    "integrator = openmm.LangevinIntegrator(temperature, 1.0/unit.picoseconds, 5.0*unit.femtosecond)\n",
    "simulation=app.Simulation(topology, system, integrator)\n",
    "simulation.context.setPositions(positions)\n",
    "\n",
    "system.addForce(openmm.MonteCarloBarostat(pressure, temperature))\n",
    "simulation.context.reinitialize(preserveState=True)\n",
    "\n",
    "simulation.reporters.append(app.PDBReporter('output.pdb', 100, enforcePeriodicBox=True))\n",
    "simulation.reporters.append(app.StateDataReporter(stdout, 100, step=True,\n",
    "        potentialEnergy=True, temperature=True, volume=True))\n",
    "\n",
    "simulation.step(1000)\n",
    "\n",
    "# Minimize the energy\n",
    "simulation.minimizeEnergy()\n",
    "energy=simulation.context.getState(getEnergy=True).getPotentialEnergy()\n",
    "print(energy)"
   ]
  }
 ],
 "metadata": {
  "kernelspec": {
   "display_name": "nequip_openmm",
   "language": "python",
   "name": "python3"
  },
  "language_info": {
   "codemirror_mode": {
    "name": "ipython",
    "version": 3
   },
   "file_extension": ".py",
   "mimetype": "text/x-python",
   "name": "python",
   "nbconvert_exporter": "python",
   "pygments_lexer": "ipython3",
   "version": "3.10.9"
  },
  "orig_nbformat": 4,
  "vscode": {
   "interpreter": {
    "hash": "2fc4ee2cd974d063c226de2895e9ec128cdfa0ad5c245b1bd15db026c0c6c35a"
   }
  }
 },
 "nbformat": 4,
 "nbformat_minor": 2
}
